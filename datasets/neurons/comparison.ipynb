{
 "cells": [
  {
   "cell_type": "code",
   "execution_count": 7,
   "metadata": {},
   "outputs": [],
   "source": [
    "import numpy as np\n",
    "import pandas as pd\n",
    "import matplotlib as plt\n",
    "\n",
    "df1= pd.read_csv(\"Bentley_et_al_2016_expression.csv\")\n",
    "df1.drop(df1.columns[[3,4]], axis=1, inplace=True)\n",
    "\n",
    "\n",
    "df2= pd.read_csv(\"Modified celegans db dump.csv\")\n",
    "df2.drop(df2.columns[[3,4]], axis=1, inplace=True)"
   ]
  },
  {
   "cell_type": "code",
   "execution_count": 22,
   "metadata": {},
   "outputs": [],
   "source": [
    "df3= (df1.merge(df2, on=list(df1.columns), indicator=True, how='outer')\n",
    "    .query('_merge != \"both\"')\n",
    "    .replace({'_merge': {'left_only': 'Entity1', 'right_only': 'Entity2'}})\n",
    "    .rename(columns={'_merge': 'Entity1/Entity2'})\n",
    ")\n",
    "\n",
    "df4 = df3[df3['Entity1/Entity2'] == \"Entity1\"]\n",
    "\n",
    "df5= df3[df3['Entity1/Entity2'] == \"Entity2\"]"
   ]
  }
 ],
 "metadata": {
  "kernelspec": {
   "display_name": "Python 3",
   "language": "python",
   "name": "python3"
  },
  "language_info": {
   "codemirror_mode": {
    "name": "ipython",
    "version": 3
   },
   "file_extension": ".py",
   "mimetype": "text/x-python",
   "name": "python",
   "nbconvert_exporter": "python",
   "pygments_lexer": "ipython3",
   "version": "3.12.0"
  }
 },
 "nbformat": 4,
 "nbformat_minor": 2
}
